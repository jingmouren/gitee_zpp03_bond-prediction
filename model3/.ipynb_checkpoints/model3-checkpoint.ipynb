{
 "cells": [
  {
   "cell_type": "code",
   "execution_count": 3,
   "id": "ed239df0",
   "metadata": {},
   "outputs": [],
   "source": [
    "import numpy as np\n",
    "import pandas as pd\n",
    "import sys\n",
    "sys.path.append('../')\n",
    "from data_handling import *\n",
    "from sklearn.tree import DecisionTreeClassifier,plot_tree\n",
    "import matplotlib.pyplot as plt\n",
    "from sklearn.metrics import recall_score,precision_score,f1_score\n",
    "import random\n",
    "import numpy as np"
   ]
  },
  {
   "cell_type": "code",
   "execution_count": 4,
   "id": "51982d36",
   "metadata": {},
   "outputs": [
    {
     "name": "stdout",
     "output_type": "stream",
     "text": [
      "378\n"
     ]
    }
   ],
   "source": [
    "trading_days = get_trading_days(1)\n",
    "trading_days = trading_days[2:]\n",
    "print(len(trading_days))"
   ]
  },
  {
   "cell_type": "code",
   "execution_count": 7,
   "id": "390d040d",
   "metadata": {},
   "outputs": [],
   "source": [
    "STEP = 5\n",
    "pre_date1 = trading_days[0][0]\n",
    "X = []\n",
    "Y = []\n",
    "slices = []\n",
    "for i in range(STEP-1,len(trading_days)-STEP,STEP):\n",
    "    now_index = i\n",
    "    date1 = trading_days[i][0]\n",
    "    date2 = day_format(date1)\n",
    "    next_day = trading_days[now_index+STEP][0]\n",
    "    cur = get_con().cursor()\n",
    "#     print(pre_date1,date1)\n",
    "    q_str = f\" with unique_b as (select id from bond where trade_dt='{date1}' group by company_name,spread) \\\n",
    "            select b.id,(b.spread-a.spread)*100,b.province,b.city,implicit.rating,b.yie,b.amount from bond as a, bond as b,implicit where \\\n",
    "            a.id=b.id and a.id in unique_b and a.id=implicit.id and a.trade_dt='{pre_date1}' and \\\n",
    "            b.trade_dt='{date1}' and implicit.trade_dt='{date2}' \"\n",
    "    cur.execute(q_str)\n",
    "    df = pd.DataFrame(cur.fetchall(),columns=['bond','diff','province','city','rating','yie','amount'])\n",
    "    count_dict = dict()\n",
    "    total_dict = dict()\n",
    "    for i in range(df.shape[0]):\n",
    "        province_name = df.iloc[i]['province']\n",
    "        if not pd.isnull(df.iloc[i]['city']):\n",
    "            city_name = df.iloc[i]['city']\n",
    "            total_dict[city_name] = total_dict.setdefault(city_name,0) + df.iloc[i]['diff']\n",
    "            count_dict[city_name] = count_dict.setdefault(city_name,0) + 1\n",
    "        total_dict[province_name] = total_dict.setdefault(province_name,0) + df.iloc[i]['diff']\n",
    "        count_dict[province_name] = count_dict.setdefault(province_name,0) + 1\n",
    "    for i in range(df.shape[0]):\n",
    "        if not pd.isnull(df.iloc[i]['rating']) and df.iloc[i]['rating'] in ratings:\n",
    "            x=[ratings[df.iloc[i]['rating']]]\n",
    "            province_name = df.iloc[i]['province']\n",
    "            if not pd.isnull(df.iloc[i]['city']) and count_dict[df.iloc[i]['city']]>1:\n",
    "                city_name = df.iloc[i]['city']\n",
    "                x.append(round((total_dict[city_name]- df.iloc[i]['diff'])/(count_dict[city_name]-1),5))\n",
    "            else:\n",
    "                x.append(0)\n",
    "            if count_dict[province_name]>1:\n",
    "                x.append(round((total_dict[province_name]- df.iloc[i]['diff'])/(count_dict[province_name]-1),5))\n",
    "            else:\n",
    "                continue\n",
    "            x.append(round(df.iloc[i]['diff'],5))\n",
    "            x.append(df.iloc[i]['yie'])\n",
    "            x.append(df.iloc[i]['amount'])\n",
    "            bond_id = df.iloc[i]['bond']\n",
    "            cur = get_con().cursor()\n",
    "            cur.execute(f\"select (b.spread-a.spread)*100 from bond as a, bond as b where a.id=b.id and a.id='{bond_id}' and \\\n",
    "                        a.trade_dt='{date1}' and b.trade_dt='{next_day}'\")\n",
    "\n",
    "            y = cur.fetchall()\n",
    "            if y:\n",
    "                X.append(x)\n",
    "                Y.append(round(y[0][0],5))\n",
    "    pre_date1 = date1\n",
    "    slices.append(len(X))"
   ]
  },
  {
   "cell_type": "code",
   "execution_count": 8,
   "id": "b8201f14",
   "metadata": {},
   "outputs": [
    {
     "name": "stdout",
     "output_type": "stream",
     "text": [
      "137592 137592\n",
      "[2.75, -3.09121, -3.07345, 4.31877, 5.2774]\n",
      "6.63397\n",
      "[3, -6.03021, -3.06719, 3.85755, 3.743]\n",
      "4.4452\n",
      "[3.75, 0, -3.21446, 6.17341, 3.1041]\n",
      "-52.96527\n",
      "[3, -1.96953, -2.01208, 3.92401, 3.7462]\n",
      "4.54489\n",
      "[2.75, 4.41419, -5.47011, 4.88511, 6.4276]\n",
      "8.87729\n",
      "[2.75, 1.55256, -3.07503, 4.65511, 5.9187]\n",
      "6.81729\n",
      "[2.5, 0.51161, -2.01937, 5.97064, 6.9893]\n",
      "-33.51589\n",
      "[3.25, 0, -3.11781, 4.34545, 4.0012]\n",
      "4.60511\n",
      "[2.75, 14.85568, -1.4145, 4.89545, 5.9749]\n",
      "6.87511\n",
      "[3.25, -6.14193, -3.38028, -7.06546, 4.0635]\n",
      "7.11213\n"
     ]
    }
   ],
   "source": [
    "print(len(X),len(Y))\n",
    "for i in range(12112,12112+10):\n",
    "    print(X[i])\n",
    "    print(Y[i])"
   ]
  },
  {
   "cell_type": "code",
   "execution_count": 9,
   "id": "cc5480a2",
   "metadata": {},
   "outputs": [],
   "source": [
    "Xs=np.array(X)\n",
    "np.save('creidt_city_province_self_yie_X1.npy',Xs)   # 保存为.npy格式\n",
    "Ys=np.array(Y)\n",
    "np.save('credict_city_province_self_yie_Y1.npy',Ys) \n",
    "# # 读取\n",
    "# X=np.load('city_province_self_spread_X1.npy')\n",
    "# Y=np.load('city_province_self_spread_Y1.npy')"
   ]
  },
  {
   "cell_type": "code",
   "execution_count": 10,
   "id": "3c1f5788",
   "metadata": {},
   "outputs": [
    {
     "name": "stdout",
     "output_type": "stream",
     "text": [
      "93403\n"
     ]
    }
   ],
   "source": [
    "div = int(len(slices)*0.72)\n",
    "div = slices[div]\n",
    "print(div)"
   ]
  },
  {
   "cell_type": "code",
   "execution_count": 11,
   "id": "3d75d53f",
   "metadata": {},
   "outputs": [],
   "source": [
    "THRESHOLD = 5\n",
    "X_tr,X_te = X[:div],X[div:]\n",
    "Y_tr,Y_te = [y>THRESHOLD for y in Y[:div]],[y>THRESHOLD for y in Y[div:]]"
   ]
  },
  {
   "cell_type": "code",
   "execution_count": 12,
   "id": "aebd7129",
   "metadata": {},
   "outputs": [],
   "source": [
    "def evaluate(cls,X_te,Y_te):\n",
    "        sc=cls.score(X_te,Y_te)\n",
    "        y_pred = cls.predict(X_te)\n",
    "        print(sc,precision_score(Y_te,y_pred),recall_score(Y_te,y_pred),f1_score(Y_te,y_pred))"
   ]
  },
  {
   "cell_type": "code",
   "execution_count": 13,
   "id": "2e253c2b",
   "metadata": {},
   "outputs": [
    {
     "name": "stdout",
     "output_type": "stream",
     "text": [
      "0.8453234967978456 0.3424723424723425 0.257737556561086 0.29412372198698755\n",
      "0.8453234967978456 0.3424723424723425 0.257737556561086 0.29412372198698755\n",
      "0.846613410577293 0.33508818110028954 0.23040723981900452 0.273058773058773\n",
      "0.8572042816085451 0.3482798608426749 0.16307692307692306 0.22214003944773172\n",
      "0.8515467650320215 0.3303834808259587 0.18244343891402715 0.23507462686567165\n",
      "0.850211591119962 0.3246794871794872 0.18334841628959275 0.23435511856564484\n",
      "0.834121613976329 0.30971958675943495 0.26588235294117646 0.286131671211531\n",
      "0.8178279662359411 0.2907342947124151 0.3174660633484163 0.303512718463402\n",
      "0.8179863767000838 0.27241503976861897 0.2727601809954751 0.2725875011305056\n",
      "0.8178732263685533 0.278256284056952 0.2865158371040724 0.28232566434813633\n",
      "0.8156328498042499 0.2679646017699115 0.274027149321267 0.2709619686800895\n",
      "0.8067166036796488 0.2612412919569348 0.2986425339366516 0.27869267798327846\n",
      "0.8017379890923081 0.2535790435577216 0.3013574660633484 0.2754114630717062\n",
      "0.7970761954332526 0.2421336529817201 0.29248868778280546 0.26493974915976726\n",
      "0.7936364253547263 0.23651026392961877 0.29194570135746606 0.2613203726204941\n",
      "0.7902645454751183 0.23457665579350448 0.29936651583710405 0.2630407124681934\n",
      "0.7800810156373759 0.22359920896506263 0.3069683257918552 0.25873379099923716\n",
      "0.7773201475480324 0.22357463164638053 0.3158371040723982 0.2618154538634659\n"
     ]
    }
   ],
   "source": [
    "for d in range(3,15):\n",
    "    cls = DecisionTreeClassifier(criterion=\"entropy\",max_depth=d)\n",
    "    cls.fit(X_tr,Y_tr)\n",
    "    evaluate(cls,X_te,Y_te)"
   ]
  },
  {
   "cell_type": "code",
   "execution_count": 15,
   "id": "8490e75a",
   "metadata": {},
   "outputs": [
    {
     "name": "stdout",
     "output_type": "stream",
     "text": [
      "0.7334857091131277 0.19785424318577227 0.37049773755656107 0.2579547602545523\n"
     ]
    }
   ],
   "source": [
    "cls = DecisionTreeClassifier()\n",
    "cls.fit(X_tr,Y_tr)\n",
    "evaluate(cls,X_te,Y_te)"
   ]
  },
  {
   "cell_type": "code",
   "execution_count": 17,
   "id": "c0db2385",
   "metadata": {},
   "outputs": [
    {
     "name": "stdout",
     "output_type": "stream",
     "text": [
      "0.8893380651134084\n"
     ]
    }
   ],
   "source": [
    "X_tr_avg = []\n",
    "Y_tr_avg = []\n",
    "positive_c = 0\n",
    "negative_c = 0\n",
    "for i in range(len(X_tr)):\n",
    "    if Y_tr[i] ==0:\n",
    "        if random.random()<0.5:\n",
    "            X_tr_avg.append(X_tr[i])\n",
    "            Y_tr_avg.append(Y_tr[i])\n",
    "            negative_c +=1\n",
    "    else:\n",
    "        X_tr_avg.append(X_tr[i])\n",
    "        Y_tr_avg.append(Y_tr[i])\n",
    "        positive_c +=1\n",
    "print(positive_c/negative_c)"
   ]
  },
  {
   "cell_type": "code",
   "execution_count": 18,
   "id": "84f6eb45",
   "metadata": {},
   "outputs": [
    {
     "name": "stdout",
     "output_type": "stream",
     "text": [
      "0.8462286994500894 0.3457240038872692 0.25755656108597286 0.29519759361062137\n",
      "0.8462286994500894 0.3457240038872692 0.25755656108597286 0.29519759361062137\n",
      "0.7474937201566001 0.19309142421270567 0.3207239819004525 0.2410556386886138\n",
      "0.7055602072914073 0.17080035180299033 0.35149321266968325 0.22989050014797274\n",
      "0.8248206567245242 0.27919489836588285 0.25357466063348416 0.26576875652091436\n",
      "0.73787594197651 0.22165043190589964 0.4365610859728507 0.29402084476138235\n",
      "0.7483989228088438 0.2283632831471588 0.4255203619909502 0.29721871049304677\n",
      "0.7980719183507208 0.2701569264069264 0.361447963800905 0.3092049237439034\n",
      "0.7609586096087262 0.23259023354564756 0.39656108597285067 0.2932084309133489\n",
      "0.7562289257507524 0.22502882297453097 0.3885972850678733 0.2850126111774857\n",
      "0.7268098395528299 0.19810015678317808 0.3887782805429864 0.2624633431085044\n",
      "0.7230532485460183 0.1902168897092755 0.3730316742081448 0.25195599022004894\n",
      "0.7328068071239449 0.20011456940996755 0.37936651583710407 0.2620163760235014\n"
     ]
    }
   ],
   "source": [
    "for d in range(2,15):\n",
    "    cls = DecisionTreeClassifier(criterion=\"entropy\",max_depth=d)\n",
    "    cls.fit(X_tr_avg,Y_tr_avg)\n",
    "    evaluate(cls,X_te,Y_te)"
   ]
  },
  {
   "cell_type": "code",
   "execution_count": 20,
   "id": "22c7a26b",
   "metadata": {},
   "outputs": [
    {
     "name": "stdout",
     "output_type": "stream",
     "text": [
      "0.7483536626762316 0.2283716865715118 0.42570135746606336 0.2972699696663296\n"
     ]
    }
   ],
   "source": [
    "cls = DecisionTreeClassifier(criterion=\"entropy\",max_depth=8)\n",
    "cls.fit(X_tr_avg,Y_tr_avg)\n",
    "evaluate(cls,X_te,Y_te)"
   ]
  },
  {
   "cell_type": "code",
   "execution_count": 21,
   "id": "21ba299e",
   "metadata": {},
   "outputs": [
    {
     "data": {
      "image/png": "[encoded data removed]",
      "text/plain": [
       "<Figure size 640x480 with 1 Axes>"
      ]
     },
     "metadata": {},
     "output_type": "display_data"
    }
   ],
   "source": [
    "def get_col(rating):\n",
    "    if rating>=3:\n",
    "        return 'green'\n",
    "    elif rating>=2:\n",
    "        return 'yellow'\n",
    "    else:\n",
    "        return 'red'\n",
    "\n",
    "for i in range(len(X_te)):\n",
    "    y_pred = cls.predict([X_te[i]])\n",
    "    if Y_te[i] and not y_pred[0]:\n",
    "        plt.scatter(X_te[i][2],X_te[i][3],color=get_col(X_te[i][0]))\n",
    "plt.savefig('wrong.png')\n",
    "plt.show()"
   ]
  },
  {
   "cell_type": "code",
   "execution_count": 32,
   "id": "bec786ed",
   "metadata": {},
   "outputs": [
    {
     "name": "stdout",
     "output_type": "stream",
     "text": [
      "(5, 1000)\n"
     ]
    }
   ],
   "source": [
    "Xt = np.transpose(Xs[8000:9000])\n",
    "print(Xt.shape)"
   ]
  },
  {
   "cell_type": "code",
   "execution_count": 33,
   "id": "7eef2f23",
   "metadata": {},
   "outputs": [
    {
     "name": "stdout",
     "output_type": "stream",
     "text": [
      "[[ 1.         -0.13736074 -0.01109886  0.00232215 -0.70768983]\n",
      " [-0.13736074  1.          0.24740355  0.03036464  0.08363069]\n",
      " [-0.01109886  0.24740355  1.          0.022519    0.04948895]\n",
      " [ 0.00232215  0.03036464  0.022519    1.         -0.07697393]\n",
      " [-0.70768983  0.08363069  0.04948895 -0.07697393  1.        ]]\n"
     ]
    },
    {
     "data": {
      "text/plain": [
       "(5, 5)"
      ]
     },
     "execution_count": 33,
     "metadata": {},
     "output_type": "execute_result"
    }
   ],
   "source": [
    "coef = np.corrcoef(Xt)\n",
    "print(coef)\n",
    "coef.shape"
   ]
  },
  {
   "cell_type": "code",
   "execution_count": 38,
   "id": "b6516030",
   "metadata": {},
   "outputs": [
    {
     "data": {
      "text/plain": [
       "(3000, 6)"
      ]
     },
     "execution_count": 38,
     "metadata": {},
     "output_type": "execute_result"
    }
   ],
   "source": [
    "Xt = []\n",
    "for k in range(1,13,5):\n",
    "    for i in range((k-1)*1000,k*1000):\n",
    "        Xt.append(X[i]+[Y[i]])\n",
    "Xt = np.array(Xt)\n",
    "Xt.shape"
   ]
  },
  {
   "cell_type": "code",
   "execution_count": 39,
   "id": "f5182134",
   "metadata": {},
   "outputs": [
    {
     "name": "stdout",
     "output_type": "stream",
     "text": [
      "1：信用 2：市 3：省 4：自身 5：收益 6：将来\n",
      "[[ 1.         -0.21586875 -0.15319751 -0.17537954 -0.72208201  0.04632774]\n",
      " [-0.21586875  1.          0.92528397  0.84508455  0.21889133  0.0800533 ]\n",
      " [-0.15319751  0.92528397  1.          0.90129423  0.19855816  0.09216299]\n",
      " [-0.17537954  0.84508455  0.90129423  1.          0.21530821 -0.11694765]\n",
      " [-0.72208201  0.21889133  0.19855816  0.21530821  1.          0.00457179]\n",
      " [ 0.04632774  0.0800533   0.09216299 -0.11694765  0.00457179  1.        ]]\n"
     ]
    },
    {
     "data": {
      "text/plain": [
       "(6, 6)"
      ]
     },
     "execution_count": 39,
     "metadata": {},
     "output_type": "execute_result"
    }
   ],
   "source": [
    "print('1：信用 2：市 3：省 4：自身 5：收益 6：将来')\n",
    "Xt = np.transpose(Xt)\n",
    "coef = np.corrcoef(Xt)\n",
    "print(coef)\n",
    "coef.shape"
   ]
  },
  {
   "cell_type": "code",
   "execution_count": 44,
   "id": "167641d5",
   "metadata": {},
   "outputs": [],
   "source": [
    "X_tr2 = np.array(X_tr)[:,3:4]\n",
    "X_te2 = np.array(X_te)[:,3:4]"
   ]
  },
  {
   "cell_type": "code",
   "execution_count": 46,
   "id": "99fce839",
   "metadata": {},
   "outputs": [
    {
     "name": "stdout",
     "output_type": "stream",
     "text": [
      "0.8453234967978456 0.3424723424723425 0.257737556561086 0.29412372198698755\n",
      "0.8453234967978456 0.3423965351299326 0.25755656108597286 0.2939778948455738\n",
      "0.8437620222227251 0.32557551226916265 0.23294117647058823 0.271576281916016\n",
      "0.8441014732173165 0.32655137334689727 0.23239819004524886 0.27154488738500576\n",
      "0.8433773110955215 0.3255872063968016 0.2358371040723982 0.273538364647843\n",
      "0.8439204326868678 0.326417004048583 0.2334841628959276 0.2722380500158278\n",
      "0.8415442757247279 0.3193934947419907 0.23638009049773756 0.27168712294570413\n",
      "0.8409106338681572 0.3183683321264784 0.23873303167420815 0.27285891601158463\n",
      "0.8403222521441988 0.32275989812456585 0.2523076923076923 0.283218203982121\n",
      "0.838443956640793 0.3178329571106095 0.25484162895927603 0.2828729281767956\n",
      "0.8362262101427957 0.3099467140319716 0.25266968325791855 0.2783926612822814\n",
      "0.8363846206069384 0.308125140670718 0.24778280542986425 0.2746789727126806\n",
      "0.8335332322523705 0.3022251026139555 0.2532126696832579 0.27555643096316723\n"
     ]
    }
   ],
   "source": [
    "for d in range(2,15):\n",
    "    cls = DecisionTreeClassifier(criterion=\"entropy\",max_depth=d)\n",
    "    cls.fit(X_tr2,Y_tr)\n",
    "    evaluate(cls,X_te2,Y_te)"
   ]
  },
  {
   "cell_type": "code",
   "execution_count": 45,
   "id": "90f73f27",
   "metadata": {},
   "outputs": [
    {
     "data": {
      "text/plain": [
       "(93403, 1)"
      ]
     },
     "execution_count": 45,
     "metadata": {},
     "output_type": "execute_result"
    }
   ],
   "source": [
    "X_tr2.shape"
   ]
  },
  {
   "cell_type": "code",
   "execution_count": 47,
   "id": "65b4e8ff",
   "metadata": {},
   "outputs": [
    {
     "data": {
      "text/plain": [
       "array([117.41753])"
      ]
     },
     "execution_count": 47,
     "metadata": {},
     "output_type": "execute_result"
    }
   ],
   "source": [
    "X_tr2[1000]"
   ]
  },
  {
   "cell_type": "code",
   "execution_count": null,
   "id": "0bede470",
   "metadata": {},
   "outputs": [],
   "source": []
  }
 ],
 "metadata": {
  "kernelspec": {
   "display_name": "Python 3 (ipykernel)",
   "language": "python",
   "name": "python3"
  },
  "language_info": {
   "codemirror_mode": {
    "name": "ipython",
    "version": 3
   },
   "file_extension": ".py",
   "mimetype": "text/x-python",
   "name": "python",
   "nbconvert_exporter": "python",
   "pygments_lexer": "ipython3",
   "version": "3.11.4"
  }
 },
 "nbformat": 4,
 "nbformat_minor": 5
}
